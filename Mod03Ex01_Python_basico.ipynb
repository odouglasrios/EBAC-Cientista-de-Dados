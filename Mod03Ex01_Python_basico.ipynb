{
  "cells": [
    {
      "cell_type": "markdown",
      "metadata": {
        "id": "SEE0vQsW83yB"
      },
      "source": [
        "### 01 - Teste de gravidez\n",
        "Escreva uma célula com controle de fluxos que tem como premissa a existência das seguintes variáveis:\n",
        "\n",
        "- ```sexo``` como ```str``` indicando os valores '**M**' para masculino e '**F**' para feminino  \n",
        "- ```beta_hcg``` que indica a quantidade do beta-HCG no sangue em mUI/mL.\n",
        "\n",
        "A sua tarefa é escrever um código que imprima como resultado \"indivíduo do sexo masculino\" quando sexo = 'M', caso sexo = 'F', se o valor de beta-HCG for maior que 5, retorne \"Positivo\" indicando que a paciente está grávida, e retorne \"Negativo\" caso contrário.\n",
        "\n",
        "Não mexa nos valores da variável ```sexo``` nem em ```beta_hcg```, e escreva um código que funcione para quaisquer valores possíveis de ambos: ```sexo``` = '**M**' ou '**F**' e ```beta_hcg``` assumindo valores inteiros positivos."
      ]
    },
    {
      "cell_type": "code",
      "execution_count": 4,
      "metadata": {
        "id": "cTOc4LG683yE",
        "colab": {
          "base_uri": "https://localhost:8080/"
        },
        "outputId": "e65dc62c-902a-4b14-b377-778e606bdd8e"
      },
      "outputs": [
        {
          "output_type": "stream",
          "name": "stdout",
          "text": [
            "Positivo\n"
          ]
        }
      ],
      "source": [
        "sexo = 'F'\n",
        "beta_hcg = 6\n",
        "\n",
        "# seu código vem abaixo desta linha\n",
        "if sexo == 'F':\n",
        "  if beta_hcg > 5:\n",
        "    print('Positivo')\n",
        "  else:\n",
        "    print('Negativo')\n",
        "else:\n",
        "  sexo == 'M'\n",
        "  print('Indivídulo do sexo masculino')\n"
      ]
    },
    {
      "cell_type": "markdown",
      "metadata": {
        "id": "uCoIZDE383yF"
      },
      "source": [
        "### 02 - Renomeando variáveis\n",
        "\n",
        "Vamos ver adiante que uma forma de renomear variáveis de um conjunto de dados é através de dicionários - o dicionário deve conter como chave o nome original, associando a cada chave um único valor (tipo *str*) que contenha o nome novo.\n",
        "\n",
        "A sua tarefa é escrever um dicionário que possa ser utilizado para traduzir as variáveis ```name``` (nome), ```age``` (idade) e ```income``` (renda). Ou seja, esse dicionário deve relacionar as chaves *name, age* e *income* às suas respectivas traduções."
      ]
    },
    {
      "cell_type": "code",
      "execution_count": 5,
      "metadata": {
        "id": "Bh6ijpbu83yG",
        "outputId": "9e849235-64da-471f-979b-a9a461128204",
        "colab": {
          "base_uri": "https://localhost:8080/"
        }
      },
      "outputs": [
        {
          "output_type": "execute_result",
          "data": {
            "text/plain": [
              "{'name': 'nome', 'age': 'idade', 'income': 'renda'}"
            ]
          },
          "metadata": {},
          "execution_count": 5
        }
      ],
      "source": [
        "dic_renomeacao = {'name': 'nome', 'age': 'idade', 'income': 'renda'}\n",
        "dic_renomeacao"
      ]
    },
    {
      "cell_type": "markdown",
      "metadata": {
        "id": "95zumO5g83yH"
      },
      "source": [
        "### 03 - É divisível?\n",
        "A sua tarefa é escrever um código que indique se um número ```N``` é divisível por um número P. Escreva um programa que faça essa verificação para quaisquer combinações de ```N``` e ```M``` e devolva uma mensagem indicativa no output."
      ]
    },
    {
      "cell_type": "code",
      "execution_count": 8,
      "metadata": {
        "id": "BR2zOhmN83yI",
        "colab": {
          "base_uri": "https://localhost:8080/"
        },
        "outputId": "cf7c2c88-a7ba-4421-9e00-3f4bbc090f1d"
      },
      "outputs": [
        {
          "output_type": "stream",
          "name": "stdout",
          "text": [
            "40 é divisível por 5\n"
          ]
        }
      ],
      "source": [
        "N = 40\n",
        "M = 5\n",
        "\n",
        "#Seu código\n",
        "if N % M == 0:\n",
        "  print(f'{N} é divisível por {M}')\n",
        "else:\n",
        "  print(f'{N} não é divisível por {M}')"
      ]
    },
    {
      "cell_type": "markdown",
      "metadata": {
        "id": "0d5Kdrz283yJ"
      },
      "source": [
        "### 04 - Números primos\n",
        "> Um número **N** é primo se e somente se é divisível por 1, -1, por **N** e por -**N**.  \n",
        "\n",
        "Escreva um script que verifica se ```N``` é um número primo, verificando se ```N``` é divisível por todos os números de ```1``` a ```N-1```. Você vai precisar usar alguma ferramenta de *loop* que você aprendeu para isto. No final, devolva uma mensagem no output indicando se o número é primo ou não."
      ]
    },
    {
      "cell_type": "code",
      "execution_count": 12,
      "metadata": {
        "id": "h_lFO-EO83yJ",
        "colab": {
          "base_uri": "https://localhost:8080/"
        },
        "outputId": "6e44ac8b-9a50-44a2-bc50-db8959eb70fe"
      },
      "outputs": [
        {
          "output_type": "stream",
          "name": "stdout",
          "text": [
            "É um número primo\n"
          ]
        }
      ],
      "source": [
        "N = 5\n",
        "\n",
        "# seu código abaixo\n",
        "total = 0\n",
        "for i in range(1, N+1):\n",
        "  if N % i == 0:\n",
        "    total += 1\n",
        "if total == 2:\n",
        "    print('É um número primo')\n",
        "else:\n",
        "    print('Nâo é um número primo')"
      ]
    },
    {
      "cell_type": "markdown",
      "metadata": {
        "id": "zHwDnURO83yK"
      },
      "source": [
        "### 05 - Desafio\n",
        "O algorítmo do exercício anterior não é o mais eficiente. O que você pode fazer para deixá-lo mais eficiente? Ou seja, executar menos comparações, portanto consumir menos tempo.\n",
        "1. Será que precisamos correr o loop até o final sempre?\n",
        "2. Será que precisamos mesmo verificar **todos** os números?\n",
        "3. Será que precisamos ir até N-1?\n",
        "\n",
        "Essas perguntas levam ao tipo de pensamento voltado a deixar um algoritmo mais eficiente. Veja se você consegue melhorar o seu."
      ]
    },
    {
      "cell_type": "code",
      "execution_count": 20,
      "metadata": {
        "id": "DDdwfZOL83yM",
        "colab": {
          "base_uri": "https://localhost:8080/"
        },
        "outputId": "8a41a17b-c698-4d75-91dc-d2524c3ad4a5"
      },
      "outputs": [
        {
          "output_type": "stream",
          "name": "stdout",
          "text": [
            "É um número primo\n"
          ]
        }
      ],
      "source": [
        "N = 13\n",
        "\n",
        "# seu código aqui\n",
        "total = 0\n",
        "for i in range(1, N + 1):\n",
        "  if N % 2 == 0:\n",
        "    break\n",
        "  elif N % i == 0:\n",
        "    total +=1\n",
        "if total == 2:\n",
        "    print('É um número primo')\n",
        "else:\n",
        "    print('Não é um número primo')"
      ]
    },
    {
      "cell_type": "markdown",
      "metadata": {
        "id": "4zhVSQan83yN"
      },
      "source": [
        "### 06 - Peso ideal 1\n",
        "O IMC (índice de massa corpórea) é um indicador de saúde mais bem aceito que o peso. Ele é calculado como:\n",
        "\n",
        "$$ IMC = \\dfrac{peso}{altura^2}$$\n",
        "\n",
        "Segundo a OMS, valores *normais* são entre 18.5 e 24.9.\n",
        "\n",
        "Sua tarefa é encontrar o ponto médio dessa faixa."
      ]
    },
    {
      "cell_type": "code",
      "execution_count": 21,
      "metadata": {
        "id": "3DzxicN983yO",
        "outputId": "9f34029f-30a3-4f60-93eb-cb8a801715fc",
        "colab": {
          "base_uri": "https://localhost:8080/"
        }
      },
      "outputs": [
        {
          "output_type": "execute_result",
          "data": {
            "text/plain": [
              "21.7"
            ]
          },
          "metadata": {},
          "execution_count": 21
        }
      ],
      "source": [
        "imc_ideal = (18.5 + 24.9) / 2\n",
        "imc_ideal"
      ]
    },
    {
      "cell_type": "markdown",
      "metadata": {
        "id": "Z8uBOym483yP"
      },
      "source": [
        "### 07 - Peso ideal 2\n",
        "Recebendo um valor de altura, encontre o peso '*ideal*' dessa pessoa, que fornece o IMC encontrado acima"
      ]
    },
    {
      "cell_type": "code",
      "execution_count": 23,
      "metadata": {
        "id": "rrNwycte83yP",
        "outputId": "28dfe8ac-bcd3-47bc-b640-334a9f0912f9",
        "colab": {
          "base_uri": "https://localhost:8080/"
        }
      },
      "outputs": [
        {
          "output_type": "execute_result",
          "data": {
            "text/plain": [
              "62.71"
            ]
          },
          "metadata": {},
          "execution_count": 23
        }
      ],
      "source": [
        "altura = 1.70\n",
        "\n",
        "# Seu código\n",
        "peso_ideal = round((altura**2) * imc_ideal, 2)\n",
        "peso_ideal"
      ]
    },
    {
      "cell_type": "markdown",
      "metadata": {
        "id": "zEdM6J_i83yP"
      },
      "source": [
        "### 08 - Peso ideal 3\n",
        "Dada uma lista contendo as alturas de pacientes, crie uma nova lista que contenha o peso '*ideal*' (que fornece o IMC calculado em **Peso ideal 1**) desses pacientes."
      ]
    },
    {
      "cell_type": "code",
      "execution_count": 24,
      "metadata": {
        "id": "KN1mB_My83yQ",
        "outputId": "689afde1-5027-4592-e84c-f6368c9e0ad8",
        "colab": {
          "base_uri": "https://localhost:8080/"
        }
      },
      "outputs": [
        {
          "output_type": "execute_result",
          "data": {
            "text/plain": [
              "[82.51, 91.19, 62.71, 59.08]"
            ]
          },
          "metadata": {},
          "execution_count": 24
        }
      ],
      "source": [
        "lista_alturas = [1.95, 2.05, 1.70, 1.65]\n",
        "\n",
        "lista_peso_ideal = []\n",
        "\n",
        "# seu código\n",
        "for i in lista_alturas:\n",
        "  peso_ideal = round((i**2) * imc_ideal, 2)\n",
        "  lista_peso_ideal.append(peso_ideal)\n",
        "\n",
        "lista_peso_ideal"
      ]
    },
    {
      "cell_type": "markdown",
      "metadata": {
        "id": "8OKAtYQM83yQ"
      },
      "source": [
        "### 09 - Peso ideal 4\n",
        "Dada uma lista de tuplas - cada elemento da lista é uma tupla contendo altura e peso de um paciente - crie uma nova lista com o IMC desses pacientes."
      ]
    },
    {
      "cell_type": "code",
      "execution_count": 26,
      "metadata": {
        "id": "FaXgkjzI83yQ",
        "outputId": "0bfc438e-59c3-4b49-b79d-759b590775c0",
        "colab": {
          "base_uri": "https://localhost:8080/"
        }
      },
      "outputs": [
        {
          "output_type": "execute_result",
          "data": {
            "text/plain": [
              "[27.78, 27.55, 19.19]"
            ]
          },
          "metadata": {},
          "execution_count": 26
        }
      ],
      "source": [
        "altura_peso = [(1.80, 90), (1.65, 75), (1.91, 70)]\n",
        "\n",
        "imc = []\n",
        "\n",
        "# seu código\n",
        "for i in altura_peso:\n",
        "  calculo_imc = round(i[1] / (i[0]**2),2)\n",
        "  imc.append(calculo_imc)\n",
        "\n",
        "imc\n",
        "#imc = peso / (altura)**2"
      ]
    },
    {
      "cell_type": "markdown",
      "metadata": {
        "id": "kZdSJqJq83yR"
      },
      "source": [
        "### 10 - Peso ideal 5\n",
        "Dada uma lista de **listas** - cada elemento da lista é uma **lista** contendo altura e peso de um paciente, adicione mais um elemento à lista de cada paciente contendo o IMC do paciente. Verifique também se é 'baixo', 'normal' ou 'alto' segundo os padrões da OMS em que normal é entre 18.5 e 24.9.\n",
        "\n",
        "Reflexão: por que no problema anterior temos que criar uma nova lista, e não podemos adicionar os dados de cada indivíduo à tupla?"
      ]
    },
    {
      "cell_type": "code",
      "execution_count": 32,
      "metadata": {
        "id": "EwszojP283yR",
        "colab": {
          "base_uri": "https://localhost:8080/"
        },
        "outputId": "b5184c57-753d-4489-e52d-8ee93e443f1d"
      },
      "outputs": [
        {
          "output_type": "execute_result",
          "data": {
            "text/plain": [
              "[[1.8, 90, 27.78, 'alto'],\n",
              " [1.65, 75, 27.55, 'alto'],\n",
              " [1.91, 70, 19.19, 'normal']]"
            ]
          },
          "metadata": {},
          "execution_count": 32
        }
      ],
      "source": [
        "altura_peso = [[1.80, 90], [1.65, 75], [1.91, 70]]\n",
        "\n",
        "# seu código\n",
        "for i in altura_peso:\n",
        "  calculo_imc = round(i[1] / (i[0]**2), 2)\n",
        "  i.append(calculo_imc)\n",
        "  if calculo_imc > 24.9:\n",
        "    i.append('alto')\n",
        "  elif calculo_imc < 18.5:\n",
        "    i.append('baixo')\n",
        "  else:\n",
        "    i.append('normal')\n",
        "\n",
        "altura_peso\n",
        "#imc = peso / (altura)**2"
      ]
    },
    {
      "cell_type": "code",
      "source": [],
      "metadata": {
        "id": "8jX9-hJsEXKd"
      },
      "execution_count": null,
      "outputs": []
    }
  ],
  "metadata": {
    "kernelspec": {
      "display_name": "Python 3",
      "language": "python",
      "name": "python3"
    },
    "language_info": {
      "codemirror_mode": {
        "name": "ipython",
        "version": 3
      },
      "file_extension": ".py",
      "mimetype": "text/x-python",
      "name": "python",
      "nbconvert_exporter": "python",
      "pygments_lexer": "ipython3",
      "version": "3.8.5"
    },
    "colab": {
      "provenance": []
    }
  },
  "nbformat": 4,
  "nbformat_minor": 0
}