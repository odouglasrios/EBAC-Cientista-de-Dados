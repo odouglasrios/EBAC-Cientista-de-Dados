{
 "cells": [
  {
   "cell_type": "markdown",
   "metadata": {},
   "source": [
    "# Livro para consulta:\n",
    "- https://jakevdp.github.io/PythonDataScienceHandbook/03.08-aggregation-and-grouping.html\n",
    "- https://jakevdp.github.io/PythonDataScienceHandbook/03.09-pivot-tables.html\n",
    "    "
   ]
  },
  {
   "cell_type": "markdown",
   "metadata": {},
   "source": [
    "# 1. Importando bibliotecas <a name=\"import\"></a>\n",
    "\n",
    "<div style=\"text-align: right\"\n",
    "     \n",
    "[Voltar ao índice](#Contents)"
   ]
  },
  {
   "cell_type": "code",
   "execution_count": 1,
   "metadata": {
    "ExecuteTime": {
     "end_time": "2021-06-06T21:12:37.298706Z",
     "start_time": "2021-06-06T21:12:36.656481Z"
    }
   },
   "outputs": [],
   "source": [
    "import numpy as np\n",
    "import pandas as pd\n",
    "import seaborn as sns\n",
    "import matplotlib.pyplot as plt\n",
    "\n",
    "%matplotlib inline"
   ]
  },
  {
   "cell_type": "markdown",
   "metadata": {},
   "source": [
    "# 2. Carregando o dataframe SINASC <a name=\"read\"></a>\n",
    "<div style=\"text-align: right\"\n",
    "     \n",
    "[Voltar ao índice](#Contents)"
   ]
  },
  {
   "cell_type": "code",
   "execution_count": 2,
   "metadata": {
    "ExecuteTime": {
     "end_time": "2021-06-06T21:12:37.762376Z",
     "start_time": "2021-06-06T21:12:37.728383Z"
    },
    "scrolled": true
   },
   "outputs": [
    {
     "data": {
      "text/html": [
       "<div>\n",
       "<style scoped>\n",
       "    .dataframe tbody tr th:only-of-type {\n",
       "        vertical-align: middle;\n",
       "    }\n",
       "\n",
       "    .dataframe tbody tr th {\n",
       "        vertical-align: top;\n",
       "    }\n",
       "\n",
       "    .dataframe thead th {\n",
       "        text-align: right;\n",
       "    }\n",
       "</style>\n",
       "<table border=\"1\" class=\"dataframe\">\n",
       "  <thead>\n",
       "    <tr style=\"text-align: right;\">\n",
       "      <th></th>\n",
       "      <th>ORIGEM</th>\n",
       "      <th>CODESTAB</th>\n",
       "      <th>CODMUNNASC</th>\n",
       "      <th>LOCNASC</th>\n",
       "      <th>IDADEMAE</th>\n",
       "      <th>ESTCIVMAE</th>\n",
       "      <th>ESCMAE</th>\n",
       "      <th>CODOCUPMAE</th>\n",
       "      <th>QTDFILVIVO</th>\n",
       "      <th>QTDFILMORT</th>\n",
       "      <th>...</th>\n",
       "      <th>KOTELCHUCK</th>\n",
       "      <th>CONTADOR</th>\n",
       "      <th>munResStatus</th>\n",
       "      <th>munResTipo</th>\n",
       "      <th>munResNome</th>\n",
       "      <th>munResUf</th>\n",
       "      <th>munResLat</th>\n",
       "      <th>munResLon</th>\n",
       "      <th>munResAlt</th>\n",
       "      <th>munResArea</th>\n",
       "    </tr>\n",
       "  </thead>\n",
       "  <tbody>\n",
       "    <tr>\n",
       "      <th>0</th>\n",
       "      <td>1</td>\n",
       "      <td>2679477.0</td>\n",
       "      <td>110001</td>\n",
       "      <td>1</td>\n",
       "      <td>19</td>\n",
       "      <td>5.0</td>\n",
       "      <td>8 a 11 anos</td>\n",
       "      <td>NaN</td>\n",
       "      <td>0.0</td>\n",
       "      <td>0.0</td>\n",
       "      <td>...</td>\n",
       "      <td>5</td>\n",
       "      <td>1</td>\n",
       "      <td>ATIVO</td>\n",
       "      <td>MUNIC</td>\n",
       "      <td>Alta Floresta D'Oeste</td>\n",
       "      <td>Rondônia</td>\n",
       "      <td>-11.93554</td>\n",
       "      <td>-61.99982</td>\n",
       "      <td>338.0</td>\n",
       "      <td>7067.025</td>\n",
       "    </tr>\n",
       "    <tr>\n",
       "      <th>1</th>\n",
       "      <td>1</td>\n",
       "      <td>2679477.0</td>\n",
       "      <td>110001</td>\n",
       "      <td>1</td>\n",
       "      <td>29</td>\n",
       "      <td>2.0</td>\n",
       "      <td>8 a 11 anos</td>\n",
       "      <td>999992.0</td>\n",
       "      <td>1.0</td>\n",
       "      <td>0.0</td>\n",
       "      <td>...</td>\n",
       "      <td>5</td>\n",
       "      <td>2</td>\n",
       "      <td>ATIVO</td>\n",
       "      <td>MUNIC</td>\n",
       "      <td>Alta Floresta D'Oeste</td>\n",
       "      <td>Rondônia</td>\n",
       "      <td>-11.93554</td>\n",
       "      <td>-61.99982</td>\n",
       "      <td>338.0</td>\n",
       "      <td>7067.025</td>\n",
       "    </tr>\n",
       "    <tr>\n",
       "      <th>2</th>\n",
       "      <td>1</td>\n",
       "      <td>2679477.0</td>\n",
       "      <td>110001</td>\n",
       "      <td>1</td>\n",
       "      <td>37</td>\n",
       "      <td>9.0</td>\n",
       "      <td>8 a 11 anos</td>\n",
       "      <td>513205.0</td>\n",
       "      <td>2.0</td>\n",
       "      <td>0.0</td>\n",
       "      <td>...</td>\n",
       "      <td>5</td>\n",
       "      <td>3</td>\n",
       "      <td>ATIVO</td>\n",
       "      <td>MUNIC</td>\n",
       "      <td>Alta Floresta D'Oeste</td>\n",
       "      <td>Rondônia</td>\n",
       "      <td>-11.93554</td>\n",
       "      <td>-61.99982</td>\n",
       "      <td>338.0</td>\n",
       "      <td>7067.025</td>\n",
       "    </tr>\n",
       "    <tr>\n",
       "      <th>3</th>\n",
       "      <td>1</td>\n",
       "      <td>2516500.0</td>\n",
       "      <td>110001</td>\n",
       "      <td>1</td>\n",
       "      <td>30</td>\n",
       "      <td>5.0</td>\n",
       "      <td>12 anos ou mais</td>\n",
       "      <td>231205.0</td>\n",
       "      <td>0.0</td>\n",
       "      <td>0.0</td>\n",
       "      <td>...</td>\n",
       "      <td>4</td>\n",
       "      <td>4</td>\n",
       "      <td>ATIVO</td>\n",
       "      <td>MUNIC</td>\n",
       "      <td>Alto Alegre dos Parecis</td>\n",
       "      <td>Rondônia</td>\n",
       "      <td>-12.13178</td>\n",
       "      <td>-61.85308</td>\n",
       "      <td>397.0</td>\n",
       "      <td>3958.273</td>\n",
       "    </tr>\n",
       "    <tr>\n",
       "      <th>4</th>\n",
       "      <td>1</td>\n",
       "      <td>2516500.0</td>\n",
       "      <td>110001</td>\n",
       "      <td>1</td>\n",
       "      <td>30</td>\n",
       "      <td>2.0</td>\n",
       "      <td>8 a 11 anos</td>\n",
       "      <td>999992.0</td>\n",
       "      <td>1.0</td>\n",
       "      <td>0.0</td>\n",
       "      <td>...</td>\n",
       "      <td>5</td>\n",
       "      <td>5</td>\n",
       "      <td>ATIVO</td>\n",
       "      <td>MUNIC</td>\n",
       "      <td>Alta Floresta D'Oeste</td>\n",
       "      <td>Rondônia</td>\n",
       "      <td>-11.93554</td>\n",
       "      <td>-61.99982</td>\n",
       "      <td>338.0</td>\n",
       "      <td>7067.025</td>\n",
       "    </tr>\n",
       "  </tbody>\n",
       "</table>\n",
       "<p>5 rows × 69 columns</p>\n",
       "</div>"
      ],
      "text/plain": [
       "   ORIGEM   CODESTAB  CODMUNNASC  LOCNASC  IDADEMAE  ESTCIVMAE  \\\n",
       "0       1  2679477.0      110001        1        19        5.0   \n",
       "1       1  2679477.0      110001        1        29        2.0   \n",
       "2       1  2679477.0      110001        1        37        9.0   \n",
       "3       1  2516500.0      110001        1        30        5.0   \n",
       "4       1  2516500.0      110001        1        30        2.0   \n",
       "\n",
       "            ESCMAE  CODOCUPMAE  QTDFILVIVO  QTDFILMORT  ...  KOTELCHUCK  \\\n",
       "0      8 a 11 anos         NaN         0.0         0.0  ...           5   \n",
       "1      8 a 11 anos    999992.0         1.0         0.0  ...           5   \n",
       "2      8 a 11 anos    513205.0         2.0         0.0  ...           5   \n",
       "3  12 anos ou mais    231205.0         0.0         0.0  ...           4   \n",
       "4      8 a 11 anos    999992.0         1.0         0.0  ...           5   \n",
       "\n",
       "  CONTADOR munResStatus munResTipo               munResNome  munResUf  \\\n",
       "0        1        ATIVO      MUNIC    Alta Floresta D'Oeste  Rondônia   \n",
       "1        2        ATIVO      MUNIC    Alta Floresta D'Oeste  Rondônia   \n",
       "2        3        ATIVO      MUNIC    Alta Floresta D'Oeste  Rondônia   \n",
       "3        4        ATIVO      MUNIC  Alto Alegre dos Parecis  Rondônia   \n",
       "4        5        ATIVO      MUNIC    Alta Floresta D'Oeste  Rondônia   \n",
       "\n",
       "   munResLat munResLon  munResAlt  munResArea  \n",
       "0  -11.93554 -61.99982      338.0    7067.025  \n",
       "1  -11.93554 -61.99982      338.0    7067.025  \n",
       "2  -11.93554 -61.99982      338.0    7067.025  \n",
       "3  -12.13178 -61.85308      397.0    3958.273  \n",
       "4  -11.93554 -61.99982      338.0    7067.025  \n",
       "\n",
       "[5 rows x 69 columns]"
      ]
     },
     "execution_count": 2,
     "metadata": {},
     "output_type": "execute_result"
    }
   ],
   "source": [
    "sinasc_raw = pd.read_csv('SINASC_RO_2019.csv')\n",
    "sinasc_raw.head()"
   ]
  },
  {
   "cell_type": "markdown",
   "metadata": {},
   "source": [
    "# Tarefa 2"
   ]
  },
  {
   "cell_type": "markdown",
   "metadata": {},
   "source": [
    "### 1. Crie 2 faixas de Latitude do município (munResLat) sendo uma acima e outra abaixo de -10.5 e aplique o groupby usando essas faixas como chave e realize operações de soma, media, minimo, maximo, mediana, desvio padrao, variancia pra pelo menos 2 variáveis numéricas ainda não utilizadas"
   ]
  },
  {
   "cell_type": "code",
   "execution_count": 3,
   "metadata": {
    "scrolled": true
   },
   "outputs": [
    {
     "data": {
      "text/html": [
       "<div>\n",
       "<style scoped>\n",
       "    .dataframe tbody tr th:only-of-type {\n",
       "        vertical-align: middle;\n",
       "    }\n",
       "\n",
       "    .dataframe tbody tr th {\n",
       "        vertical-align: top;\n",
       "    }\n",
       "\n",
       "    .dataframe thead th {\n",
       "        text-align: right;\n",
       "    }\n",
       "</style>\n",
       "<table border=\"1\" class=\"dataframe\">\n",
       "  <thead>\n",
       "    <tr style=\"text-align: right;\">\n",
       "      <th></th>\n",
       "      <th>munResLat</th>\n",
       "    </tr>\n",
       "  </thead>\n",
       "  <tbody>\n",
       "    <tr>\n",
       "      <th>0</th>\n",
       "      <td>-11.93554</td>\n",
       "    </tr>\n",
       "    <tr>\n",
       "      <th>1</th>\n",
       "      <td>-11.93554</td>\n",
       "    </tr>\n",
       "    <tr>\n",
       "      <th>2</th>\n",
       "      <td>-11.93554</td>\n",
       "    </tr>\n",
       "    <tr>\n",
       "      <th>3</th>\n",
       "      <td>-12.13178</td>\n",
       "    </tr>\n",
       "    <tr>\n",
       "      <th>4</th>\n",
       "      <td>-11.93554</td>\n",
       "    </tr>\n",
       "  </tbody>\n",
       "</table>\n",
       "</div>"
      ],
      "text/plain": [
       "   munResLat\n",
       "0  -11.93554\n",
       "1  -11.93554\n",
       "2  -11.93554\n",
       "3  -12.13178\n",
       "4  -11.93554"
      ]
     },
     "execution_count": 3,
     "metadata": {},
     "output_type": "execute_result"
    }
   ],
   "source": [
    "# Verificando as informações da coluna 'munResLat'\n",
    "sinasc_raw[['munResLat']].head()"
   ]
  },
  {
   "cell_type": "code",
   "execution_count": 4,
   "metadata": {},
   "outputs": [
    {
     "data": {
      "text/plain": [
       "-8.76889"
      ]
     },
     "execution_count": 4,
     "metadata": {},
     "output_type": "execute_result"
    }
   ],
   "source": [
    "# Verificando a latitue máxima\n",
    "sinasc_raw['munResLat'].max()"
   ]
  },
  {
   "cell_type": "code",
   "execution_count": 5,
   "metadata": {},
   "outputs": [
    {
     "data": {
      "text/plain": [
       "-13.49976"
      ]
     },
     "execution_count": 5,
     "metadata": {},
     "output_type": "execute_result"
    }
   ],
   "source": [
    "# Verificando a latitue mínima\n",
    "sinasc_raw['munResLat'].min()"
   ]
  },
  {
   "cell_type": "code",
   "execution_count": 6,
   "metadata": {},
   "outputs": [],
   "source": [
    "# Cortando a coluna 'munResLat' em duas partes\n",
    "sinasc_cut_lat = pd.cut(sinasc_raw['munResLat'], [-13.5, -10.5, -8.5])"
   ]
  },
  {
   "cell_type": "code",
   "execution_count": 7,
   "metadata": {},
   "outputs": [
    {
     "data": {
      "text/html": [
       "<div>\n",
       "<style scoped>\n",
       "    .dataframe tbody tr th:only-of-type {\n",
       "        vertical-align: middle;\n",
       "    }\n",
       "\n",
       "    .dataframe tbody tr th {\n",
       "        vertical-align: top;\n",
       "    }\n",
       "\n",
       "    .dataframe thead tr th {\n",
       "        text-align: left;\n",
       "    }\n",
       "\n",
       "    .dataframe thead tr:last-of-type th {\n",
       "        text-align: right;\n",
       "    }\n",
       "</style>\n",
       "<table border=\"1\" class=\"dataframe\">\n",
       "  <thead>\n",
       "    <tr>\n",
       "      <th></th>\n",
       "      <th colspan=\"7\" halign=\"left\">CONSULTAS</th>\n",
       "      <th colspan=\"7\" halign=\"left\">SEMAGESTAC</th>\n",
       "    </tr>\n",
       "    <tr>\n",
       "      <th></th>\n",
       "      <th>Soma</th>\n",
       "      <th>Média</th>\n",
       "      <th>Mínima</th>\n",
       "      <th>Máxima</th>\n",
       "      <th>Mediana</th>\n",
       "      <th>Desvio Padrão</th>\n",
       "      <th>Variância</th>\n",
       "      <th>Soma</th>\n",
       "      <th>Média</th>\n",
       "      <th>Mínima</th>\n",
       "      <th>Máxima</th>\n",
       "      <th>Mediana</th>\n",
       "      <th>Desvio Padrão</th>\n",
       "      <th>Variância</th>\n",
       "    </tr>\n",
       "    <tr>\n",
       "      <th>munResLat</th>\n",
       "      <th></th>\n",
       "      <th></th>\n",
       "      <th></th>\n",
       "      <th></th>\n",
       "      <th></th>\n",
       "      <th></th>\n",
       "      <th></th>\n",
       "      <th></th>\n",
       "      <th></th>\n",
       "      <th></th>\n",
       "      <th></th>\n",
       "      <th></th>\n",
       "      <th></th>\n",
       "      <th></th>\n",
       "    </tr>\n",
       "  </thead>\n",
       "  <tbody>\n",
       "    <tr>\n",
       "      <th>(-13.5, -10.5]</th>\n",
       "      <td>48000</td>\n",
       "      <td>3.694297</td>\n",
       "      <td>1</td>\n",
       "      <td>9</td>\n",
       "      <td>4.0</td>\n",
       "      <td>0.643372</td>\n",
       "      <td>0.413928</td>\n",
       "      <td>482665.0</td>\n",
       "      <td>38.545360</td>\n",
       "      <td>19.0</td>\n",
       "      <td>45.0</td>\n",
       "      <td>39.0</td>\n",
       "      <td>2.012435</td>\n",
       "      <td>4.049895</td>\n",
       "    </tr>\n",
       "    <tr>\n",
       "      <th>(-10.5, -8.5]</th>\n",
       "      <td>48662</td>\n",
       "      <td>3.467436</td>\n",
       "      <td>1</td>\n",
       "      <td>9</td>\n",
       "      <td>4.0</td>\n",
       "      <td>0.888240</td>\n",
       "      <td>0.788970</td>\n",
       "      <td>511951.0</td>\n",
       "      <td>38.588302</td>\n",
       "      <td>21.0</td>\n",
       "      <td>45.0</td>\n",
       "      <td>39.0</td>\n",
       "      <td>2.020722</td>\n",
       "      <td>4.083319</td>\n",
       "    </tr>\n",
       "  </tbody>\n",
       "</table>\n",
       "</div>"
      ],
      "text/plain": [
       "               CONSULTAS                                                \\\n",
       "                    Soma     Média Mínima Máxima Mediana Desvio Padrão   \n",
       "munResLat                                                                \n",
       "(-13.5, -10.5]     48000  3.694297      1      9     4.0      0.643372   \n",
       "(-10.5, -8.5]      48662  3.467436      1      9     4.0      0.888240   \n",
       "\n",
       "                         SEMAGESTAC                                   \\\n",
       "               Variância       Soma      Média Mínima Máxima Mediana   \n",
       "munResLat                                                              \n",
       "(-13.5, -10.5]  0.413928   482665.0  38.545360   19.0   45.0    39.0   \n",
       "(-10.5, -8.5]   0.788970   511951.0  38.588302   21.0   45.0    39.0   \n",
       "\n",
       "                                        \n",
       "               Desvio Padrão Variância  \n",
       "munResLat                               \n",
       "(-13.5, -10.5]      2.012435  4.049895  \n",
       "(-10.5, -8.5]       2.020722  4.083319  "
      ]
     },
     "execution_count": 7,
     "metadata": {},
     "output_type": "execute_result"
    }
   ],
   "source": [
    "# As variáveis a serem usadas serão: 'CONSULTAS' e 'SEMAGESTAC'\n",
    "sinasc_raw[['CONSULTAS', 'SEMAGESTAC']].groupby(sinasc_cut_lat).agg([('Soma', 'sum'),\n",
    "                                                                ('Média', 'mean'), \n",
    "                                                                ('Mínima', 'min'),\n",
    "                                                                ('Máxima', 'max'), \n",
    "                                                                ('Mediana', np.median),\n",
    "                                                                ('Desvio Padrão', np.std),\n",
    "                                                                ('Variância', np.var)])"
   ]
  },
  {
   "cell_type": "markdown",
   "metadata": {},
   "source": [
    "### 2. Crie 2 faixas da área dos municípios (munResArea) sendo uma acima e outra abaixo de 3000 e aplique o groupby usando essas faixas como chave e realize operações de soma, media, minimo, maximo, mediana, desvio padrao, variancia pra pelo menos 2 variáveis numéricas ainda não utilizadas\n"
   ]
  },
  {
   "cell_type": "code",
   "execution_count": 8,
   "metadata": {
    "scrolled": true
   },
   "outputs": [
    {
     "data": {
      "text/html": [
       "<div>\n",
       "<style scoped>\n",
       "    .dataframe tbody tr th:only-of-type {\n",
       "        vertical-align: middle;\n",
       "    }\n",
       "\n",
       "    .dataframe tbody tr th {\n",
       "        vertical-align: top;\n",
       "    }\n",
       "\n",
       "    .dataframe thead th {\n",
       "        text-align: right;\n",
       "    }\n",
       "</style>\n",
       "<table border=\"1\" class=\"dataframe\">\n",
       "  <thead>\n",
       "    <tr style=\"text-align: right;\">\n",
       "      <th></th>\n",
       "      <th>munResArea</th>\n",
       "    </tr>\n",
       "  </thead>\n",
       "  <tbody>\n",
       "    <tr>\n",
       "      <th>0</th>\n",
       "      <td>7067.025</td>\n",
       "    </tr>\n",
       "    <tr>\n",
       "      <th>1</th>\n",
       "      <td>7067.025</td>\n",
       "    </tr>\n",
       "    <tr>\n",
       "      <th>2</th>\n",
       "      <td>7067.025</td>\n",
       "    </tr>\n",
       "    <tr>\n",
       "      <th>3</th>\n",
       "      <td>3958.273</td>\n",
       "    </tr>\n",
       "    <tr>\n",
       "      <th>4</th>\n",
       "      <td>7067.025</td>\n",
       "    </tr>\n",
       "    <tr>\n",
       "      <th>...</th>\n",
       "      <td>...</td>\n",
       "    </tr>\n",
       "    <tr>\n",
       "      <th>27023</th>\n",
       "      <td>11518.915</td>\n",
       "    </tr>\n",
       "    <tr>\n",
       "      <th>27024</th>\n",
       "      <td>5126.723</td>\n",
       "    </tr>\n",
       "    <tr>\n",
       "      <th>27025</th>\n",
       "      <td>11518.915</td>\n",
       "    </tr>\n",
       "    <tr>\n",
       "      <th>27026</th>\n",
       "      <td>11518.915</td>\n",
       "    </tr>\n",
       "    <tr>\n",
       "      <th>27027</th>\n",
       "      <td>843.446</td>\n",
       "    </tr>\n",
       "  </tbody>\n",
       "</table>\n",
       "<p>27028 rows × 1 columns</p>\n",
       "</div>"
      ],
      "text/plain": [
       "       munResArea\n",
       "0        7067.025\n",
       "1        7067.025\n",
       "2        7067.025\n",
       "3        3958.273\n",
       "4        7067.025\n",
       "...           ...\n",
       "27023   11518.915\n",
       "27024    5126.723\n",
       "27025   11518.915\n",
       "27026   11518.915\n",
       "27027     843.446\n",
       "\n",
       "[27028 rows x 1 columns]"
      ]
     },
     "execution_count": 8,
     "metadata": {},
     "output_type": "execute_result"
    }
   ],
   "source": [
    "# Verificando as informações da coluna 'munResArea'\n",
    "sinasc_raw[['munResArea']]"
   ]
  },
  {
   "cell_type": "code",
   "execution_count": 9,
   "metadata": {},
   "outputs": [
    {
     "data": {
      "text/plain": [
       "34096.394"
      ]
     },
     "execution_count": 9,
     "metadata": {},
     "output_type": "execute_result"
    }
   ],
   "source": [
    "# Verificando a área máxima\n",
    "sinasc_raw['munResArea'].max()"
   ]
  },
  {
   "cell_type": "code",
   "execution_count": 10,
   "metadata": {},
   "outputs": [
    {
     "data": {
      "text/plain": [
       "459.978"
      ]
     },
     "execution_count": 10,
     "metadata": {},
     "output_type": "execute_result"
    }
   ],
   "source": [
    "# Verificando a área mínima\n",
    "sinasc_raw['munResArea'].min()"
   ]
  },
  {
   "cell_type": "code",
   "execution_count": 11,
   "metadata": {},
   "outputs": [],
   "source": [
    "# Cortando a coluna 'munResArea' em duas partes\n",
    "sinasc_cut_area = pd.cut(sinasc_raw['munResArea'], [450, 3000, 35000])"
   ]
  },
  {
   "cell_type": "code",
   "execution_count": 12,
   "metadata": {},
   "outputs": [
    {
     "data": {
      "text/html": [
       "<div>\n",
       "<style scoped>\n",
       "    .dataframe tbody tr th:only-of-type {\n",
       "        vertical-align: middle;\n",
       "    }\n",
       "\n",
       "    .dataframe tbody tr th {\n",
       "        vertical-align: top;\n",
       "    }\n",
       "\n",
       "    .dataframe thead tr th {\n",
       "        text-align: left;\n",
       "    }\n",
       "\n",
       "    .dataframe thead tr:last-of-type th {\n",
       "        text-align: right;\n",
       "    }\n",
       "</style>\n",
       "<table border=\"1\" class=\"dataframe\">\n",
       "  <thead>\n",
       "    <tr>\n",
       "      <th></th>\n",
       "      <th colspan=\"7\" halign=\"left\">QTDPARTCES</th>\n",
       "      <th colspan=\"7\" halign=\"left\">QTDPARTNOR</th>\n",
       "    </tr>\n",
       "    <tr>\n",
       "      <th></th>\n",
       "      <th>Soma</th>\n",
       "      <th>Média</th>\n",
       "      <th>Mínima</th>\n",
       "      <th>Máxima</th>\n",
       "      <th>Mediana</th>\n",
       "      <th>Desvio Padrão</th>\n",
       "      <th>Variância</th>\n",
       "      <th>Soma</th>\n",
       "      <th>Média</th>\n",
       "      <th>Mínima</th>\n",
       "      <th>Máxima</th>\n",
       "      <th>Mediana</th>\n",
       "      <th>Desvio Padrão</th>\n",
       "      <th>Variância</th>\n",
       "    </tr>\n",
       "    <tr>\n",
       "      <th>munResArea</th>\n",
       "      <th></th>\n",
       "      <th></th>\n",
       "      <th></th>\n",
       "      <th></th>\n",
       "      <th></th>\n",
       "      <th></th>\n",
       "      <th></th>\n",
       "      <th></th>\n",
       "      <th></th>\n",
       "      <th></th>\n",
       "      <th></th>\n",
       "      <th></th>\n",
       "      <th></th>\n",
       "      <th></th>\n",
       "    </tr>\n",
       "  </thead>\n",
       "  <tbody>\n",
       "    <tr>\n",
       "      <th>(450, 3000]</th>\n",
       "      <td>2952.0</td>\n",
       "      <td>0.572981</td>\n",
       "      <td>0.0</td>\n",
       "      <td>5.0</td>\n",
       "      <td>0.0</td>\n",
       "      <td>0.749368</td>\n",
       "      <td>0.561553</td>\n",
       "      <td>1912.0</td>\n",
       "      <td>0.371334</td>\n",
       "      <td>0.0</td>\n",
       "      <td>10.0</td>\n",
       "      <td>0.0</td>\n",
       "      <td>0.856441</td>\n",
       "      <td>0.733490</td>\n",
       "    </tr>\n",
       "    <tr>\n",
       "      <th>(3000, 35000]</th>\n",
       "      <td>10184.0</td>\n",
       "      <td>0.507070</td>\n",
       "      <td>0.0</td>\n",
       "      <td>12.0</td>\n",
       "      <td>0.0</td>\n",
       "      <td>0.744981</td>\n",
       "      <td>0.554997</td>\n",
       "      <td>12659.0</td>\n",
       "      <td>0.632982</td>\n",
       "      <td>0.0</td>\n",
       "      <td>41.0</td>\n",
       "      <td>0.0</td>\n",
       "      <td>1.278932</td>\n",
       "      <td>1.635668</td>\n",
       "    </tr>\n",
       "  </tbody>\n",
       "</table>\n",
       "</div>"
      ],
      "text/plain": [
       "              QTDPARTCES                                                \\\n",
       "                    Soma     Média Mínima Máxima Mediana Desvio Padrão   \n",
       "munResArea                                                               \n",
       "(450, 3000]       2952.0  0.572981    0.0    5.0     0.0      0.749368   \n",
       "(3000, 35000]    10184.0  0.507070    0.0   12.0     0.0      0.744981   \n",
       "\n",
       "                        QTDPARTNOR                                  \\\n",
       "              Variância       Soma     Média Mínima Máxima Mediana   \n",
       "munResArea                                                           \n",
       "(450, 3000]    0.561553     1912.0  0.371334    0.0   10.0     0.0   \n",
       "(3000, 35000]  0.554997    12659.0  0.632982    0.0   41.0     0.0   \n",
       "\n",
       "                                       \n",
       "              Desvio Padrão Variância  \n",
       "munResArea                             \n",
       "(450, 3000]        0.856441  0.733490  \n",
       "(3000, 35000]      1.278932  1.635668  "
      ]
     },
     "execution_count": 12,
     "metadata": {},
     "output_type": "execute_result"
    }
   ],
   "source": [
    "# As variáveis a serem usadas serão: 'QTDPARTCES' e 'QTDPARTNOR'\n",
    "sinasc_raw[['QTDPARTCES', 'QTDPARTNOR']].groupby(sinasc_cut_area).agg([('Soma', 'sum'),\n",
    "                                                                ('Média', 'mean'), \n",
    "                                                                ('Mínima', 'min'),\n",
    "                                                                ('Máxima', 'max'), \n",
    "                                                                ('Mediana', np.median),\n",
    "                                                                ('Desvio Padrão', np.std),\n",
    "                                                                ('Variância', np.var)])"
   ]
  },
  {
   "cell_type": "markdown",
   "metadata": {},
   "source": [
    "### 3. Determine faixas na variável munResAlt e aplique o groupby usando essas faixas como chave e realize operações de soma, media, minimo, maximo, mediana, desvio padrao, variancia pra pelo menos 2 variáveis numéricas ainda não utilizadas"
   ]
  },
  {
   "cell_type": "code",
   "execution_count": 13,
   "metadata": {},
   "outputs": [
    {
     "data": {
      "text/plain": [
       "count    27027.000000\n",
       "mean       179.111999\n",
       "std        123.138365\n",
       "min         85.000000\n",
       "25%         87.000000\n",
       "50%        153.000000\n",
       "75%        191.000000\n",
       "max        595.000000\n",
       "Name: munResAlt, dtype: float64"
      ]
     },
     "execution_count": 13,
     "metadata": {},
     "output_type": "execute_result"
    }
   ],
   "source": [
    "# Verificando as informações da coluna 'munResAlt'\n",
    "sinasc_raw['munResAlt'].describe()"
   ]
  },
  {
   "cell_type": "code",
   "execution_count": 14,
   "metadata": {},
   "outputs": [],
   "source": [
    "# Cortando a coluna 'munResAlt' em duas partes, usando o valor mínimo, médio e máximo.\n",
    "sinasc_cut_alt = pd.cut(sinasc_raw['munResAlt'], [85, 180, 595])"
   ]
  },
  {
   "cell_type": "code",
   "execution_count": 15,
   "metadata": {},
   "outputs": [
    {
     "data": {
      "text/html": [
       "<div>\n",
       "<style scoped>\n",
       "    .dataframe tbody tr th:only-of-type {\n",
       "        vertical-align: middle;\n",
       "    }\n",
       "\n",
       "    .dataframe tbody tr th {\n",
       "        vertical-align: top;\n",
       "    }\n",
       "\n",
       "    .dataframe thead tr th {\n",
       "        text-align: left;\n",
       "    }\n",
       "\n",
       "    .dataframe thead tr:last-of-type th {\n",
       "        text-align: right;\n",
       "    }\n",
       "</style>\n",
       "<table border=\"1\" class=\"dataframe\">\n",
       "  <thead>\n",
       "    <tr>\n",
       "      <th></th>\n",
       "      <th colspan=\"7\" halign=\"left\">CONSULTAS</th>\n",
       "      <th colspan=\"7\" halign=\"left\">SEMAGESTAC</th>\n",
       "    </tr>\n",
       "    <tr>\n",
       "      <th></th>\n",
       "      <th>Soma</th>\n",
       "      <th>Média</th>\n",
       "      <th>Mínima</th>\n",
       "      <th>Máxima</th>\n",
       "      <th>Mediana</th>\n",
       "      <th>Desvio Padrão</th>\n",
       "      <th>Variância</th>\n",
       "      <th>Soma</th>\n",
       "      <th>Média</th>\n",
       "      <th>Mínima</th>\n",
       "      <th>Máxima</th>\n",
       "      <th>Mediana</th>\n",
       "      <th>Desvio Padrão</th>\n",
       "      <th>Variância</th>\n",
       "    </tr>\n",
       "    <tr>\n",
       "      <th>munResAlt</th>\n",
       "      <th></th>\n",
       "      <th></th>\n",
       "      <th></th>\n",
       "      <th></th>\n",
       "      <th></th>\n",
       "      <th></th>\n",
       "      <th></th>\n",
       "      <th></th>\n",
       "      <th></th>\n",
       "      <th></th>\n",
       "      <th></th>\n",
       "      <th></th>\n",
       "      <th></th>\n",
       "      <th></th>\n",
       "    </tr>\n",
       "  </thead>\n",
       "  <tbody>\n",
       "    <tr>\n",
       "      <th>(85, 180]</th>\n",
       "      <td>66162</td>\n",
       "      <td>3.516076</td>\n",
       "      <td>1</td>\n",
       "      <td>9</td>\n",
       "      <td>4.0</td>\n",
       "      <td>0.839456</td>\n",
       "      <td>0.704687</td>\n",
       "      <td>684533.0</td>\n",
       "      <td>38.567412</td>\n",
       "      <td>19.0</td>\n",
       "      <td>45.0</td>\n",
       "      <td>39.0</td>\n",
       "      <td>2.062394</td>\n",
       "      <td>4.253470</td>\n",
       "    </tr>\n",
       "    <tr>\n",
       "      <th>(180, 595]</th>\n",
       "      <td>29337</td>\n",
       "      <td>3.726280</td>\n",
       "      <td>1</td>\n",
       "      <td>9</td>\n",
       "      <td>4.0</td>\n",
       "      <td>0.612697</td>\n",
       "      <td>0.375398</td>\n",
       "      <td>297806.0</td>\n",
       "      <td>38.555930</td>\n",
       "      <td>19.0</td>\n",
       "      <td>45.0</td>\n",
       "      <td>39.0</td>\n",
       "      <td>1.910900</td>\n",
       "      <td>3.651539</td>\n",
       "    </tr>\n",
       "  </tbody>\n",
       "</table>\n",
       "</div>"
      ],
      "text/plain": [
       "           CONSULTAS                                                          \\\n",
       "                Soma     Média Mínima Máxima Mediana Desvio Padrão Variância   \n",
       "munResAlt                                                                      \n",
       "(85, 180]      66162  3.516076      1      9     4.0      0.839456  0.704687   \n",
       "(180, 595]     29337  3.726280      1      9     4.0      0.612697  0.375398   \n",
       "\n",
       "           SEMAGESTAC                                                           \n",
       "                 Soma      Média Mínima Máxima Mediana Desvio Padrão Variância  \n",
       "munResAlt                                                                       \n",
       "(85, 180]    684533.0  38.567412   19.0   45.0    39.0      2.062394  4.253470  \n",
       "(180, 595]   297806.0  38.555930   19.0   45.0    39.0      1.910900  3.651539  "
      ]
     },
     "execution_count": 15,
     "metadata": {},
     "output_type": "execute_result"
    }
   ],
   "source": [
    "# As variáveis a serem usadas serão: 'CONSULTAS' e 'SEMAGESTAC'\n",
    "sinasc_raw[['CONSULTAS', 'SEMAGESTAC']].groupby(sinasc_cut_alt).agg([('Soma', 'sum'),\n",
    "                                                                ('Média', 'mean'), \n",
    "                                                                ('Mínima', 'min'),\n",
    "                                                                ('Máxima', 'max'), \n",
    "                                                                ('Mediana', np.median),\n",
    "                                                                ('Desvio Padrão', np.std),\n",
    "                                                                ('Variância', np.var)])"
   ]
  },
  {
   "cell_type": "markdown",
   "metadata": {},
   "source": [
    "### 4. Plote no mesmo grafico ao longo do tempo a idade media das mulheres de cada regiao imediatas de rondonia\n",
    "https://pt.wikipedia.org/wiki/Lista_de_regi%C3%B5es_geogr%C3%A1ficas_intermedi%C3%A1rias_e_imediatas_de_Rond%C3%B4nia"
   ]
  },
  {
   "cell_type": "code",
   "execution_count": 16,
   "metadata": {},
   "outputs": [],
   "source": [
    "# Dicionário das regiões imediatas\n",
    "regioes_imediatas = {\n",
    "    'Candeias do Jamari': 'Porto Velho',\n",
    "    'Guajará-Mirim': 'Porto Velho',\n",
    "    'Itapuã do Oeste': 'Porto Velho',\n",
    "    'Nova Mamoré': 'Porto Velho',\n",
    "    'Porto Velho': 'Porto Velho',\n",
    "    'Alto Paraíso': 'Ariquemes',\n",
    "    'Ariquemes': 'Ariquemes',\n",
    "    'Buritis': 'Ariquemes',\n",
    "    'Cacaulândia': 'Ariquemes',\n",
    "    'Campo Novo de Rondônia': 'Ariquemes',\n",
    "    'Cujubim': 'Ariquemes',\n",
    "    'Monte Negro': 'Ariquemes',\n",
    "    'Rio Crespo': 'Ariquemes',\n",
    "    'Governador Jorge Teixeira': 'Jaru',\n",
    "    'Jaru': 'Jaru',\n",
    "    'Machadinho d''Oeste': 'Jaru',\n",
    "    'Theobroma': 'Jaru',\n",
    "    'Vale do Anari': 'Jaru',\n",
    "    'Alvorada d''Oeste': 'Ji-Paraná',\n",
    "    'Costa Marques': 'Ji-Paraná',\n",
    "    'Ji-Paraná': 'Ji-Paraná',\n",
    "    'Mirante da Serra': 'Ji-Paraná',\n",
    "    'Nova União': 'Ji-Paraná',\n",
    "    'Ouro Preto do Oeste': 'Ji-Paraná',\n",
    "    'Presidente Médici': 'Ji-Paraná',\n",
    "    'São Francisco do Guaporé': 'Ji-Paraná',\n",
    "    'São Miguel do Guaporé': 'Ji-Paraná',\n",
    "    'Seringueiras': 'Ji-Paraná',\n",
    "    'Teixeirópolis': 'Ji-Paraná',\n",
    "    'Urupá': 'Ji-Paraná',\n",
    "    'Vale do Paraíso': 'Ji-Paraná',\n",
    "    'Alta Floresta d''Oeste': 'Cacoal',\n",
    "    'Alto Alegre dos Parecis': 'Cacoal',\n",
    "    'Cacoal': 'Cacoal',\n",
    "    'Castanheiras': 'Cacoal',\n",
    "    'Espigão d''Oeste': 'Cacoal',\n",
    "    'Ministro Andreazza': 'Cacoal',\n",
    "    'Nova Brasilândia d''Oeste': 'Cacoal',\n",
    "    'Novo Horizonte do Oeste': 'Cacoal',\n",
    "    'Parecis': 'Cacoal',\n",
    "    'Pimenta Bueno': 'Cacoal',\n",
    "    'Primavera de Rondônia': 'Cacoal',\n",
    "    'Rolim de Moura': 'Cacoal',\n",
    "    'Santa Luzia d''Oeste': 'Cacoal',\n",
    "    'São Felipe d''Oeste': 'Cacoal',\n",
    "    'Cabixi': 'Vilhena',\n",
    "    'Cerejeiras': 'Vilhena',\n",
    "    'Chupinguaia': 'Vilhena',\n",
    "    'Colorado do Oeste': 'Vilhena',\n",
    "    'Corumbiara': 'Vilhena',\n",
    "    'Pimenteiras do Oeste': 'Vilhena',\n",
    "    'Vilhena': 'Vilhena'\n",
    "}"
   ]
  },
  {
   "cell_type": "code",
   "execution_count": 17,
   "metadata": {},
   "outputs": [],
   "source": [
    "# Setando a coluna 'munResNome' como índice do dataframe\n",
    "sinasc_reg_imediatas = sinasc_raw.set_index('munResNome')"
   ]
  },
  {
   "cell_type": "code",
   "execution_count": 18,
   "metadata": {},
   "outputs": [
    {
     "data": {
      "text/plain": [
       "munResNome\n",
       "Ariquemes      25.459635\n",
       "Cacoal         26.434757\n",
       "Jaru           25.805579\n",
       "Ji-Paraná      26.108682\n",
       "Porto Velho    26.166303\n",
       "Vilhena        26.417143\n",
       "Name: IDADEMAE, dtype: float64"
      ]
     },
     "execution_count": 18,
     "metadata": {},
     "output_type": "execute_result"
    }
   ],
   "source": [
    "# Calculando a média da idade das mães \n",
    "sinasc_reg_imediatas.groupby(regioes_imediatas)['IDADEMAE'].mean()"
   ]
  },
  {
   "cell_type": "code",
   "execution_count": 19,
   "metadata": {},
   "outputs": [
    {
     "data": {
      "image/png": "[encoded data removed]",
      "text/plain": [
       "<Figure size 1080x360 with 1 Axes>"
      ]
     },
     "metadata": {
      "needs_background": "light"
     },
     "output_type": "display_data"
    }
   ],
   "source": [
    "# Ordenando os dados e plotando o gráfico\n",
    "sinasc_reg_imediatas.groupby(regioes_imediatas)['IDADEMAE'].mean().sort_values().plot(figsize = [15,5]);\n",
    "\n",
    "plt.ylabel('IDADE MÉDIA DAS MÃES');\n",
    "plt.xlabel('REGIÕES IMEDIATAS');"
   ]
  },
  {
   "cell_type": "markdown",
   "metadata": {},
   "source": [
    "### 5. Utilize a tabela do link abaixo e crie faixas utilizando o mapping e gere agrupamentos utilizando essas faixas como chave\n"
   ]
  },
  {
   "cell_type": "markdown",
   "metadata": {},
   "source": [
    "### 5.1 IDH\n",
    "A - https://pt.wikipedia.org/wiki/Lista_de_munic%C3%ADpios_de_Rond%C3%B4nia_por_IDH-M\n"
   ]
  },
  {
   "cell_type": "code",
   "execution_count": 20,
   "metadata": {},
   "outputs": [],
   "source": [
    "# Criando o mapping\n",
    "\n",
    "idh = {'Porto Velho' : 'IDH-M alto', \n",
    "           'Vilhena' : 'IDH-M alto', \n",
    "           'Cacoal' : 'IDH-M alto', \n",
    "           'Ji-Paraná' : 'IDH-M alto', \n",
    "           'Pimenta Bueno' : 'IDH-M alto', \n",
    "           'Ariquemes' : 'IDH-M alto',\n",
    "           'Rolim de Moura' : 'IDH-M alto',\n",
    "           'Cerejeiras' : 'IDH-M médio',\n",
    "           'Jaru' : 'IDH-M médio',\n",
    "           'Colorado do Oeste' : 'IDH-M médio',\n",
    "           'Ouro Preto do Oeste' : 'IDH-M médio',\n",
    "           \"Espigão d'Oeste\" : 'IDH-M médio',\n",
    "           \"Santa Luzia d'Oeste\" : 'IDH-M médio',\n",
    "           'Pimenteiras do Oeste' : 'IDH-M médio',\n",
    "           'Presidente Médici' : 'IDH-M médio',\n",
    "           'Castanheiras' : 'IDH-M médio',\n",
    "           'Guajará-Mirim' : 'IDH-M médio',\n",
    "           'Chupinguaia' : 'IDH-M médio',\n",
    "           'Cabixi' : 'IDH-M médio',\n",
    "           'Candeias do Jamari' : 'IDH-M médio',\n",
    "           \"São Felipe d'Oeste\" : 'IDH-M médio',\n",
    "           'Cacaulândia' : 'IDH-M médio',\n",
    "           'São Miguel do Guaporé' : 'IDH-M médio',\n",
    "           'Mirante da Serra' : 'IDH-M médio',\n",
    "           \"Alvorada d'Oeste\" : 'IDH-M médio',\n",
    "           'Teixeirópolis' : 'IDH-M médio',\n",
    "           \"Nova Brasilândia d'Oeste\" : 'IDH-M médio',\n",
    "           'Rio Crespo' : 'IDH-M médio',\n",
    "           'Primavera de Rondônia' : 'IDH-M médio',\n",
    "           \"Alta Floresta d'Oeste\" : 'IDH-M médio',\n",
    "           'Ministro Andreazza' : 'IDH-M médio',\n",
    "           'Novo Horizonte do Oeste' : 'IDH-M médio',\n",
    "           'Vale do Paraíso' : 'IDH-M médio',\n",
    "           'Alto Paraíso' : 'IDH-M médio',\n",
    "           'Parecis' : 'IDH-M médio',\n",
    "           'Buritis' : 'IDH-M médio',\n",
    "           'Itapuã do Oeste' : 'IDH-M médio',\n",
    "           'Corumbiara' : 'IDH-M médio',\n",
    "           'Cujubim' : 'IDH-M médio',\n",
    "           'Costa Marques' : 'IDH-M médio',\n",
    "           'São Francisco do Guaporé' : 'IDH-M médio',\n",
    "           'Urupá' : 'IDH-M médio',\n",
    "           'Monte Negro' : 'IDH-M médio',\n",
    "           'Seringueiras' : 'IDH-M baixo',\n",
    "           'Governador Jorge Teixeira' : 'IDH-M baixo',\n",
    "           \"Machadinho d'Oeste\" : 'IDH-M baixo',\n",
    "           'Campo Novo de Rondônia' : 'IDH-M baixo',\n",
    "           'Alto Alegre dos Parecis' : 'IDH-M baixo',\n",
    "           'Theobroma' : 'IDH-M baixo',\n",
    "           'Nova União' : 'IDH-M baixo',\n",
    "           'Nova Mamoré' : 'IDH-M baixo',\n",
    "           'Vale do Anari' : 'IDH-M baixo'}"
   ]
  },
  {
   "cell_type": "code",
   "execution_count": 21,
   "metadata": {
    "scrolled": true
   },
   "outputs": [
    {
     "data": {
      "text/html": [
       "<div>\n",
       "<style scoped>\n",
       "    .dataframe tbody tr th:only-of-type {\n",
       "        vertical-align: middle;\n",
       "    }\n",
       "\n",
       "    .dataframe tbody tr th {\n",
       "        vertical-align: top;\n",
       "    }\n",
       "\n",
       "    .dataframe thead th {\n",
       "        text-align: right;\n",
       "    }\n",
       "</style>\n",
       "<table border=\"1\" class=\"dataframe\">\n",
       "  <thead>\n",
       "    <tr style=\"text-align: right;\">\n",
       "      <th></th>\n",
       "      <th>Soma</th>\n",
       "      <th>Média</th>\n",
       "      <th>Mínima</th>\n",
       "      <th>Máxima</th>\n",
       "      <th>Mediana</th>\n",
       "      <th>Desvio Padrão</th>\n",
       "      <th>Variância</th>\n",
       "    </tr>\n",
       "    <tr>\n",
       "      <th>munResNome</th>\n",
       "      <th></th>\n",
       "      <th></th>\n",
       "      <th></th>\n",
       "      <th></th>\n",
       "      <th></th>\n",
       "      <th></th>\n",
       "      <th></th>\n",
       "    </tr>\n",
       "  </thead>\n",
       "  <tbody>\n",
       "    <tr>\n",
       "      <th>IDH-M alto</th>\n",
       "      <td>9017.0</td>\n",
       "      <td>0.578495</td>\n",
       "      <td>0.0</td>\n",
       "      <td>40.0</td>\n",
       "      <td>0.0</td>\n",
       "      <td>1.161221</td>\n",
       "      <td>1.348435</td>\n",
       "    </tr>\n",
       "    <tr>\n",
       "      <th>IDH-M baixo</th>\n",
       "      <td>748.0</td>\n",
       "      <td>0.620232</td>\n",
       "      <td>0.0</td>\n",
       "      <td>41.0</td>\n",
       "      <td>0.0</td>\n",
       "      <td>1.602919</td>\n",
       "      <td>2.569350</td>\n",
       "    </tr>\n",
       "    <tr>\n",
       "      <th>IDH-M médio</th>\n",
       "      <td>3795.0</td>\n",
       "      <td>0.589560</td>\n",
       "      <td>0.0</td>\n",
       "      <td>14.0</td>\n",
       "      <td>0.0</td>\n",
       "      <td>1.177900</td>\n",
       "      <td>1.387448</td>\n",
       "    </tr>\n",
       "  </tbody>\n",
       "</table>\n",
       "</div>"
      ],
      "text/plain": [
       "               Soma     Média  Mínima  Máxima  Mediana  Desvio Padrão  \\\n",
       "munResNome                                                              \n",
       "IDH-M alto   9017.0  0.578495     0.0    40.0      0.0       1.161221   \n",
       "IDH-M baixo   748.0  0.620232     0.0    41.0      0.0       1.602919   \n",
       "IDH-M médio  3795.0  0.589560     0.0    14.0      0.0       1.177900   \n",
       "\n",
       "             Variância  \n",
       "munResNome              \n",
       "IDH-M alto    1.348435  \n",
       "IDH-M baixo   2.569350  \n",
       "IDH-M médio   1.387448  "
      ]
     },
     "execution_count": 21,
     "metadata": {},
     "output_type": "execute_result"
    }
   ],
   "source": [
    "# idh por 'QTDPARTNOR' (quantidade de parto normal)\n",
    "sinasc_raw.set_index('munResNome')['QTDPARTNOR'].groupby(idh).agg([('Soma', 'sum'),\n",
    "                                                                ('Média', 'mean'), \n",
    "                                                                ('Mínima', 'min'),\n",
    "                                                                ('Máxima', 'max'), \n",
    "                                                                ('Mediana', np.median),\n",
    "                                                                ('Desvio Padrão', np.std),\n",
    "                                                                ('Variância', np.var)])"
   ]
  },
  {
   "cell_type": "code",
   "execution_count": 22,
   "metadata": {},
   "outputs": [
    {
     "data": {
      "image/png": "[encoded data removed]",
      "text/plain": [
       "<Figure size 1080x360 with 1 Axes>"
      ]
     },
     "metadata": {
      "needs_background": "light"
     },
     "output_type": "display_data"
    }
   ],
   "source": [
    "# Plotando o gráfico do idh por 'QTDPARTNOR' (quantidade de parto normal)\n",
    "sinasc_raw.set_index('munResNome').groupby(idh)['QTDPARTNOR'].sum().sort_values().plot(figsize=[15 ,5]);\n",
    "\n",
    "plt.ylabel('MÉDIA DE PARTO NORMAL');\n",
    "plt.xlabel('NÍVEL IDH');"
   ]
  },
  {
   "cell_type": "markdown",
   "metadata": {},
   "source": [
    "### 5.2 IFDM \n",
    "B - https://pt.wikipedia.org/wiki/Lista_de_munic%C3%ADpios_de_Rond%C3%B4nia_por_IFDM\n"
   ]
  },
  {
   "cell_type": "code",
   "execution_count": 23,
   "metadata": {},
   "outputs": [],
   "source": [
    "# mapping do IFDM\n",
    "\n",
    "ifmd = {\n",
    "    \"Ariquemes\": \"IFDM Moderado\",\n",
    "    \"Vilhena\": \"IFDM Moderado\",\n",
    "    \"Pimenta Bueno\": \"IFDM Moderado\",\n",
    "    \"Porto Velho\": \"IFDM Moderado\",\n",
    "    \"Ji-Paraná\": \"IFDM Moderado\",\n",
    "    \"Cacoal\": \"IFDM Moderado\",\n",
    "    \"Santa Luzia d'Oeste\": \"IFDM Moderado\",\n",
    "    \"Rolim de Moura\": \"IFDM Moderado\",\n",
    "    \"Chupinguaia\": \"IFDM Moderado\",\n",
    "    \"São Miguel do Guaporé\": \"IFDM Moderado\",\n",
    "    \"Pimenteiras do Oeste\": \"IFDM Moderado\",\n",
    "    \"Teixeirópolis\": \"IFDM Moderado\",\n",
    "    \"Colorado do Oeste\": \"IFDM Moderado\",\n",
    "    \"Jaru\": \"IFDM Moderado\",\n",
    "    \"Rio Crespo\": \"IFDM Moderado\",\n",
    "    \"Primavera de Rondônia\": \"IFDM Moderado\",\n",
    "    \"Alta Floresta d'Oeste\": \"IFDM Moderado\",\n",
    "    \"Ouro Preto do Oeste\": \"IFDM Moderado\",\n",
    "    \"São Francisco do Guaporé\": \"IFDM Moderado\",\n",
    "    \"Candeias do Jamari\": \"IFDM Moderado\",\n",
    "    \"Buritis\": \"IFDM Moderado\",\n",
    "    \"São Felipe d'Oeste\": \"IFDM Moderado\",\n",
    "    \"Presidente Médici\": \"IFDM Moderado\",\n",
    "    \"Cerejeiras\": \"IFDM Moderado\",\n",
    "    \"Monte Negro\": \"IFDM Moderado\",\n",
    "    \"Urupá\": \"IFDM Moderado\",\n",
    "    \"Espigão d'Oeste\": \"IFDM Regular\",\n",
    "    \"Seringueiras\": \"IFDM Regular\",\n",
    "    \"Alvorada d'Oeste\": \"IFDM Regular\",\n",
    "    \"Itapuã do Oeste\": \"IFDM Regular\",\n",
    "    \"Cabixi\": \"IFDM Regular\",\n",
    "    \"Novo Horizonte do Oeste\": \"IFDM Regular\",\n",
    "    \"Nova Brasilândia d'Oeste\": \"IFDM Regular\",\n",
    "    \"Vale do Paraíso\": \"IFDM Regular\",\n",
    "    \"Corumbiara\": \"IFDM Regular\",\n",
    "    \"Alto Paraíso\": \"IFDM Regular\",\n",
    "    \"Cacaulândia\": \"IFDM Regular\",\n",
    "    \"Vale do Anari\": \"IFDM Regular\",\n",
    "    \"Ministro Andreazza\": \"IFDM Regular\",\n",
    "    \"Costa Marques\": \"IFDM Regular\",\n",
    "    \"Nova União\": \"IFDM Regular\",\n",
    "    \"Guajará-Mirim\": \"IFDM Regular\",\n",
    "    \"Mirante da Serra\": \"IFDM Regular\",\n",
    "    \"Parecis\": \"IFDM Regular\",\n",
    "    \"Castanheiras\": \"IFDM Regular\",\n",
    "    \"Theobroma\": \"IFDM Regular\",\n",
    "    \"Machadinho d'Oeste\": \"IFDM Regular\",\n",
    "    \"Campo Novo de Rondônia\": \"IFDM Regular\",\n",
    "    \"Nova Mamoré\": \"IFDM Regular\",\n",
    "    \"Cujubim\": \"IFDM Regular\",\n",
    "    \"Alto Alegre dos Parecis\": \"IFDM Regular\",\n",
    "    \"Governador Jorge Teixeira\": \"IFDM Regular\"\n",
    "}"
   ]
  },
  {
   "cell_type": "code",
   "execution_count": 24,
   "metadata": {},
   "outputs": [
    {
     "data": {
      "text/html": [
       "<div>\n",
       "<style scoped>\n",
       "    .dataframe tbody tr th:only-of-type {\n",
       "        vertical-align: middle;\n",
       "    }\n",
       "\n",
       "    .dataframe tbody tr th {\n",
       "        vertical-align: top;\n",
       "    }\n",
       "\n",
       "    .dataframe thead th {\n",
       "        text-align: right;\n",
       "    }\n",
       "</style>\n",
       "<table border=\"1\" class=\"dataframe\">\n",
       "  <thead>\n",
       "    <tr style=\"text-align: right;\">\n",
       "      <th></th>\n",
       "      <th>Soma</th>\n",
       "      <th>Média</th>\n",
       "      <th>Mínima</th>\n",
       "      <th>Máxima</th>\n",
       "      <th>Mediana</th>\n",
       "      <th>Desvio Padrão</th>\n",
       "      <th>Variância</th>\n",
       "    </tr>\n",
       "    <tr>\n",
       "      <th>munResNome</th>\n",
       "      <th></th>\n",
       "      <th></th>\n",
       "      <th></th>\n",
       "      <th></th>\n",
       "      <th></th>\n",
       "      <th></th>\n",
       "      <th></th>\n",
       "    </tr>\n",
       "  </thead>\n",
       "  <tbody>\n",
       "    <tr>\n",
       "      <th>IFDM Moderado</th>\n",
       "      <td>11010.0</td>\n",
       "      <td>0.558033</td>\n",
       "      <td>0.0</td>\n",
       "      <td>40.0</td>\n",
       "      <td>0.0</td>\n",
       "      <td>1.128835</td>\n",
       "      <td>1.274269</td>\n",
       "    </tr>\n",
       "    <tr>\n",
       "      <th>IFDM Regular</th>\n",
       "      <td>2550.0</td>\n",
       "      <td>0.728571</td>\n",
       "      <td>0.0</td>\n",
       "      <td>41.0</td>\n",
       "      <td>0.0</td>\n",
       "      <td>1.494789</td>\n",
       "      <td>2.234394</td>\n",
       "    </tr>\n",
       "  </tbody>\n",
       "</table>\n",
       "</div>"
      ],
      "text/plain": [
       "                  Soma     Média  Mínima  Máxima  Mediana  Desvio Padrão  \\\n",
       "munResNome                                                                 \n",
       "IFDM Moderado  11010.0  0.558033     0.0    40.0      0.0       1.128835   \n",
       "IFDM Regular    2550.0  0.728571     0.0    41.0      0.0       1.494789   \n",
       "\n",
       "               Variância  \n",
       "munResNome                \n",
       "IFDM Moderado   1.274269  \n",
       "IFDM Regular    2.234394  "
      ]
     },
     "execution_count": 24,
     "metadata": {},
     "output_type": "execute_result"
    }
   ],
   "source": [
    "# ifmd por 'QTDPARNOR' (quantidade de parto normal)\n",
    "sinasc_raw.set_index('munResNome')['QTDPARTNOR'].groupby(ifmd).agg([('Soma', 'sum'),\n",
    "                                                                ('Média', 'mean'), \n",
    "                                                                ('Mínima', 'min'),\n",
    "                                                                ('Máxima', 'max'), \n",
    "                                                                ('Mediana', np.median),\n",
    "                                                                ('Desvio Padrão', np.std),\n",
    "                                                                ('Variância', np.var)])"
   ]
  },
  {
   "cell_type": "code",
   "execution_count": 25,
   "metadata": {},
   "outputs": [
    {
     "data": {
      "image/png": "[encoded data removed]",
      "text/plain": [
       "<Figure size 1080x360 with 1 Axes>"
      ]
     },
     "metadata": {
      "needs_background": "light"
     },
     "output_type": "display_data"
    }
   ],
   "source": [
    "# Plotando o gráfico do idh por 'QTDPARTNOR' (quantidade de parto normal)\n",
    "sinasc_raw.set_index('munResNome').groupby(ifmd)['QTDPARTNOR'].sum().sort_values().plot(figsize=[15 ,5]);\n",
    "\n",
    "plt.ylabel('MÉDIA DE PARTO NORMAL');\n",
    "plt.xlabel('NÍVEL IFMD');"
   ]
  },
  {
   "cell_type": "markdown",
   "metadata": {},
   "source": [
    "### 5.3 PIB\n",
    "C - https://pt.wikipedia.org/wiki/Lista_de_munic%C3%ADpios_de_Rond%C3%B4nia_por_PIB\n"
   ]
  },
  {
   "cell_type": "code",
   "execution_count": 26,
   "metadata": {},
   "outputs": [],
   "source": [
    "# mapping do PIB\n",
    "\n",
    "pib = {\n",
    "    \"Porto Velho\": \"Acima de 1 bilhão\",\n",
    "    \"Ji-Paraná\": \"Acima de 1 bilhão\",\n",
    "    \"Vilhena\": \"Acima de 1 bilhão\",\n",
    "    \"Ariquemes\": \"Acima de 1 bilhão\",\n",
    "    \"Cacoal\": \"Acima de 1 bilhão\",\n",
    "    \"Jaru\": \"Acima de 1 bilhão\",\n",
    "    \"Rolim de Moura\": \"Acima de 1 bilhão\",\n",
    "    \"Pimenta Bueno\": \"Acima de 1 bilhão\",\n",
    "    \"Guajará-Mirim\": \"Acima de 500 Milhões\",\n",
    "    \"Ouro Preto do Oeste\": \"Acima de 500 Milhões\",\n",
    "    \"Buritis\": \"Acima de 500 Milhões\",\n",
    "    \"Machadinho do Oeste\": \"Acima de 500 Milhões\",\n",
    "    \"Espigão d'Oeste\": \"Acima de 500 Milhões\",\n",
    "    \"São Miguel do Guaporé\": \"Acima de 500 Milhões\",\n",
    "    \"Candeias do Jamari\": \"Acima de 500 Milhões\",\n",
    "    \"Nova Mamoré\": \"Acima de 500 Milhões\",\n",
    "    \"Cerejeiras\": \"Acima de 500 Milhões\",\n",
    "    \"Alta Floresta do Oeste\": \"Acima de 300 Milhões\",\n",
    "    \"Presidente Médici\": \"Acima de 300 Milhões\",\n",
    "    \"Cujubim\": \"Acima de 300 Milhões\",\n",
    "    \"Nova Brasilândia do Oeste\": \"Acima de 300 Milhões\",\n",
    "    \"Alto Paraíso\": \"Acima de 300 Milhões\",\n",
    "    \"São Francisco do Guaporé\": \"Acima de 300 Milhões\",\n",
    "    \"Colorado do Oeste\": \"Acima de 300 Milhões\",\n",
    "    \"Monte Negro\": \"Acima de 200 Milhões\",\n",
    "    \"Alto Alegre dos Parecis\": \"Acima de 200 Milhões\",\n",
    "    \"Campo Novo de Rondônia\": \"Acima de 200 Milhões\",\n",
    "    \"Alvorada do Oeste\": \"Acima de 200 Milhões\",\n",
    "    \"Chupinguaia\": \"Acima de 100 Milhões\",\n",
    "    \"Corumbiara\": \"Acima de 100 Milhões\",\n",
    "    \"Ministro Andreazza\": \"Acima de 100 Milhões\",\n",
    "    \"Urupá\": \"Acima de 100 Milhões\",\n",
    "    \"Costa Marques\": \"Acima de 100 Milhões\",\n",
    "    \"Seringueiras\": \"Acima de 100 Milhões\",\n",
    "    \"Mirante da Serra\": \"Acima de 100 Milhões\",\n",
    "    \"Governador Jorge Teixeira\": \"Acima de 100 Milhões\",\n",
    "    \"Theobroma\": \"Acima de 100 Milhões\",\n",
    "    \"Santa Luzia do Oeste\": \"Acima de 100 Milhões\",\n",
    "    \"Novo Horizonte do Oeste\": \"Acima de 100 Milhões\",\n",
    "    \"Itapuã do Oeste\": \"Acima de 100 Milhões\",\n",
    "    \"Vale do Paraíso\": \"Acima de 100 Milhões\",\n",
    "    \"Cacaulândia\": \"Acima de 100 Milhões\",\n",
    "    \"Cabixi\": \"Acima de 100 Milhões\",\n",
    "    \"Vale do Anari\": \"Acima de 100 Milhões\",\n",
    "    \"Nova União\": \"Até 100 Milhões\",\n",
    "    \"Parecis\": \"Até 100 Milhões\",\n",
    "    \"Rio Crespo\": \"Até 100 Milhões\",\n",
    "    \"Pimenteiras do Oeste\": \"Até 100 Milhões\",\n",
    "    \"Teixeirópolis\": \"Até 100 Milhões\",\n",
    "    \"São Felipe do Oeste\": \"Até 100 Milhões\",\n",
    "    \"Castanheiras\": \"Até 100 Milhões\",\n",
    "    \"Primavera de Rondônia\": \"Até 100 Milhões\"\n",
    "}"
   ]
  },
  {
   "cell_type": "code",
   "execution_count": 27,
   "metadata": {},
   "outputs": [
    {
     "data": {
      "text/html": [
       "<div>\n",
       "<style scoped>\n",
       "    .dataframe tbody tr th:only-of-type {\n",
       "        vertical-align: middle;\n",
       "    }\n",
       "\n",
       "    .dataframe tbody tr th {\n",
       "        vertical-align: top;\n",
       "    }\n",
       "\n",
       "    .dataframe thead th {\n",
       "        text-align: right;\n",
       "    }\n",
       "</style>\n",
       "<table border=\"1\" class=\"dataframe\">\n",
       "  <thead>\n",
       "    <tr style=\"text-align: right;\">\n",
       "      <th></th>\n",
       "      <th>Soma</th>\n",
       "      <th>Média</th>\n",
       "      <th>Mínima</th>\n",
       "      <th>Máxima</th>\n",
       "      <th>Mediana</th>\n",
       "      <th>Desvio Padrão</th>\n",
       "      <th>Variância</th>\n",
       "    </tr>\n",
       "    <tr>\n",
       "      <th>munResNome</th>\n",
       "      <th></th>\n",
       "      <th></th>\n",
       "      <th></th>\n",
       "      <th></th>\n",
       "      <th></th>\n",
       "      <th></th>\n",
       "      <th></th>\n",
       "    </tr>\n",
       "  </thead>\n",
       "  <tbody>\n",
       "    <tr>\n",
       "      <th>Acima de 1 bilhão</th>\n",
       "      <td>9368.0</td>\n",
       "      <td>0.569137</td>\n",
       "      <td>0.0</td>\n",
       "      <td>40.0</td>\n",
       "      <td>0.0</td>\n",
       "      <td>1.147284</td>\n",
       "      <td>1.316260</td>\n",
       "    </tr>\n",
       "    <tr>\n",
       "      <th>Acima de 100 Milhões</th>\n",
       "      <td>885.0</td>\n",
       "      <td>0.487603</td>\n",
       "      <td>0.0</td>\n",
       "      <td>14.0</td>\n",
       "      <td>0.0</td>\n",
       "      <td>1.083980</td>\n",
       "      <td>1.175012</td>\n",
       "    </tr>\n",
       "    <tr>\n",
       "      <th>Acima de 200 Milhões</th>\n",
       "      <td>235.0</td>\n",
       "      <td>0.531674</td>\n",
       "      <td>0.0</td>\n",
       "      <td>41.0</td>\n",
       "      <td>0.0</td>\n",
       "      <td>2.146588</td>\n",
       "      <td>4.607838</td>\n",
       "    </tr>\n",
       "    <tr>\n",
       "      <th>Acima de 300 Milhões</th>\n",
       "      <td>652.0</td>\n",
       "      <td>0.527082</td>\n",
       "      <td>0.0</td>\n",
       "      <td>8.0</td>\n",
       "      <td>0.0</td>\n",
       "      <td>1.045232</td>\n",
       "      <td>1.092510</td>\n",
       "    </tr>\n",
       "    <tr>\n",
       "      <th>Acima de 500 Milhões</th>\n",
       "      <td>2246.0</td>\n",
       "      <td>0.773682</td>\n",
       "      <td>0.0</td>\n",
       "      <td>10.0</td>\n",
       "      <td>0.0</td>\n",
       "      <td>1.358577</td>\n",
       "      <td>1.845730</td>\n",
       "    </tr>\n",
       "    <tr>\n",
       "      <th>Até 100 Milhões</th>\n",
       "      <td>174.0</td>\n",
       "      <td>0.466488</td>\n",
       "      <td>0.0</td>\n",
       "      <td>6.0</td>\n",
       "      <td>0.0</td>\n",
       "      <td>1.003798</td>\n",
       "      <td>1.007610</td>\n",
       "    </tr>\n",
       "  </tbody>\n",
       "</table>\n",
       "</div>"
      ],
      "text/plain": [
       "                        Soma     Média  Mínima  Máxima  Mediana  \\\n",
       "munResNome                                                        \n",
       "Acima de 1 bilhão     9368.0  0.569137     0.0    40.0      0.0   \n",
       "Acima de 100 Milhões   885.0  0.487603     0.0    14.0      0.0   \n",
       "Acima de 200 Milhões   235.0  0.531674     0.0    41.0      0.0   \n",
       "Acima de 300 Milhões   652.0  0.527082     0.0     8.0      0.0   \n",
       "Acima de 500 Milhões  2246.0  0.773682     0.0    10.0      0.0   \n",
       "Até 100 Milhões        174.0  0.466488     0.0     6.0      0.0   \n",
       "\n",
       "                      Desvio Padrão  Variância  \n",
       "munResNome                                      \n",
       "Acima de 1 bilhão          1.147284   1.316260  \n",
       "Acima de 100 Milhões       1.083980   1.175012  \n",
       "Acima de 200 Milhões       2.146588   4.607838  \n",
       "Acima de 300 Milhões       1.045232   1.092510  \n",
       "Acima de 500 Milhões       1.358577   1.845730  \n",
       "Até 100 Milhões            1.003798   1.007610  "
      ]
     },
     "execution_count": 27,
     "metadata": {},
     "output_type": "execute_result"
    }
   ],
   "source": [
    "# PIB por 'QTDPARNOR' (quantidade de parto normal)\n",
    "sinasc_raw.set_index('munResNome')['QTDPARTNOR'].groupby(pib).agg([('Soma', 'sum'),\n",
    "                                                                ('Média', 'mean'), \n",
    "                                                                ('Mínima', 'min'),\n",
    "                                                                ('Máxima', 'max'), \n",
    "                                                                ('Mediana', np.median),\n",
    "                                                                ('Desvio Padrão', np.std),\n",
    "                                                                ('Variância', np.var)])"
   ]
  },
  {
   "cell_type": "code",
   "execution_count": 28,
   "metadata": {},
   "outputs": [
    {
     "data": {
      "image/png": "[encoded data removed]",
      "text/plain": [
       "<Figure size 1080x360 with 1 Axes>"
      ]
     },
     "metadata": {
      "needs_background": "light"
     },
     "output_type": "display_data"
    }
   ],
   "source": [
    "# Plotando o gráfico do PIB por 'QTDPARTNOR' (quantidade de parto normal)\n",
    "sinasc_raw.set_index('munResNome').groupby(pib)['QTDPARTNOR'].sum().sort_values().plot(figsize=[15 ,5]);\n",
    "\n",
    "plt.ylabel('MÉDIA DE PARTO NORMAL');\n",
    "plt.xlabel('PIB');"
   ]
  },
  {
   "cell_type": "markdown",
   "metadata": {},
   "source": [
    "### Analise as respostas encontradas, tire algum insight delas, conte pra gente algo encontrado nos dados."
   ]
  },
  {
   "cell_type": "markdown",
   "metadata": {},
   "source": [
    "- Quanto maior o IDH maior o número de partos normais;\n",
    "- Quanto menor a altitude do município, maior a média de partos normais; \n",
    "- Quanto maior a altitude, maior a média de partos cesáreos;\n",
    "- Quanto maior a aréa do município, maior os valores médios de partos normais e cesarianas;\n",
    "- O maior número de municípios possui IDH médio."
   ]
  },
  {
   "cell_type": "code",
   "execution_count": null,
   "metadata": {},
   "outputs": [],
   "source": []
  }
 ],
 "metadata": {
  "kernelspec": {
   "display_name": "Python 3 (ipykernel)",
   "language": "python",
   "name": "python3"
  },
  "language_info": {
   "codemirror_mode": {
    "name": "ipython",
    "version": 3
   },
   "file_extension": ".py",
   "mimetype": "text/x-python",
   "name": "python",
   "nbconvert_exporter": "python",
   "pygments_lexer": "ipython3",
   "version": "3.9.7"
  },
  "varInspector": {
   "cols": {
    "lenName": 16,
    "lenType": 16,
    "lenVar": 40
   },
   "kernels_config": {
    "python": {
     "delete_cmd_postfix": "",
     "delete_cmd_prefix": "del ",
     "library": "var_list.py",
     "varRefreshCmd": "print(var_dic_list())"
    },
    "r": {
     "delete_cmd_postfix": ") ",
     "delete_cmd_prefix": "rm(",
     "library": "var_list.r",
     "varRefreshCmd": "cat(var_dic_list()) "
    }
   },
   "types_to_exclude": [
    "module",
    "function",
    "builtin_function_or_method",
    "instance",
    "_Feature"
   ],
   "window_display": false
  }
 },
 "nbformat": 4,
 "nbformat_minor": 4
}
